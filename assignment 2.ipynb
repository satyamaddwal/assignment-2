{
 "cells": [
  {
   "cell_type": "code",
   "execution_count": 1,
   "id": "a7ecebdf-c23d-4fd4-9cb9-f286dfd906df",
   "metadata": {},
   "outputs": [
    {
     "name": "stdout",
     "output_type": "stream",
     "text": [
      "[1, 3, 5, 7, 9, 11, 13, 15, 17, 19, 21, 23, 25]\n"
     ]
    }
   ],
   "source": [
    "''' Question 1. Which keyword is used to create a function? Create a function to return a list of odd numbers in the \n",
    "range of 1 to 25 ?'''\n",
    "\n",
    "# solution:\n",
    "''' (def) is a keyword which is used to create a function '''\n",
    "\n",
    "def list():\n",
    "   \n",
    "    l1 = []\n",
    "    for i in range(1,26):\n",
    "        if i%2 != 0:\n",
    "            l1.append(i)\n",
    "    print(l1)\n",
    "list()"
   ]
  },
  {
   "cell_type": "code",
   "execution_count": 2,
   "id": "877cc519-d482-4730-a63b-b04ee301678d",
   "metadata": {},
   "outputs": [],
   "source": [
    "''' Question 2. Why *args and **kwargs is used in some functions? Create a function each for *args and **kwargs \n",
    "to demonstrate their use. '''\n",
    "\n",
    "# solution: \n",
    "'''*args and **kwargs are special syntaxes in python that allow us to pass a variable number of arguments or keyword\n",
    "arguments to a function. they can make our code more flexible and adaptable to different situations.'''\n",
    "\n",
    "def test(*args):\n",
    "    return args"
   ]
  },
  {
   "cell_type": "code",
   "execution_count": 7,
   "id": "0141fe8f-87ee-46ed-81f6-efde8ca95a00",
   "metadata": {},
   "outputs": [
    {
     "data": {
      "text/plain": [
       "(1, 2, 3, 4, 5)"
      ]
     },
     "execution_count": 7,
     "metadata": {},
     "output_type": "execute_result"
    }
   ],
   "source": [
    "test(1,2,3,4,5)"
   ]
  },
  {
   "cell_type": "code",
   "execution_count": 8,
   "id": "df0978ee-2f8f-4dbd-9175-11dac6613029",
   "metadata": {},
   "outputs": [],
   "source": [
    "''' **kwargs is generally use for key elements'''\n",
    "def test1(**kwargs):\n",
    "    return kwargs"
   ]
  },
  {
   "cell_type": "code",
   "execution_count": 10,
   "id": "e7e2b62b-c90c-4440-8577-862ad868faa5",
   "metadata": {},
   "outputs": [
    {
     "data": {
      "text/plain": [
       "{'a': 'satyam', 'b': [1, 2, 3, 4], 'c': '23.34'}"
      ]
     },
     "execution_count": 10,
     "metadata": {},
     "output_type": "execute_result"
    }
   ],
   "source": [
    "test1(a = 'satyam', b = [1,2,3,4] , c = '23.34')"
   ]
  },
  {
   "cell_type": "code",
   "execution_count": 47,
   "id": "22ff3d37-de61-4f97-927d-001b4a8fd186",
   "metadata": {},
   "outputs": [
    {
     "data": {
      "text/plain": [
       "[2, 4, 6, 8, 10]"
      ]
     },
     "execution_count": 47,
     "metadata": {},
     "output_type": "execute_result"
    }
   ],
   "source": [
    "'''Question 3.  What is an iterator in python? Name the method used to initialise the iterator object and the method \n",
    "used for iteration. Use these methods to print the first five elements of the given list [2, 4, 6, 8, 10, 12, 14, \n",
    "16, 18, 20]'''\n",
    "\n",
    "# solution:\n",
    "''' An iterator in python is an object that can be used to iterate over iterable objects like lists, tuples, dictionaries and\n",
    "sets. it has two methods: _iter_() and _next_().the _iter_() method is used to initialise the iterator object and _next_() \n",
    "is used for iteration'''\n",
    "\n",
    "l = [2,4,6,8,10,12,14,16,18,20]\n",
    "l1 = iter(l)\n",
    "[next(l1),next(l1),next(l1),next(l1),next(l1)]\n",
    "\n"
   ]
  },
  {
   "cell_type": "code",
   "execution_count": 4,
   "id": "c9fa0e05-67fa-49a9-80ec-d65834e014b3",
   "metadata": {},
   "outputs": [],
   "source": [
    "''' Question 4.  What is a generator function in python? Why yield keyword is used? Give an example of a generator \n",
    "function.'''\n",
    "\n",
    "# Solution\n",
    "''' A generator function in python is a special kind of function that can create an iterator object. it is an object that can\n",
    "produce a sequence of values one by one when requested. the generator function uses the yield keyword to return a value from \n",
    "the function and pause its execution until the next value is needed.'''\n",
    "\n",
    "def sq(n):\n",
    "    for i in range(n):\n",
    "        a = i\n",
    "        b = a**2\n",
    "        yield b"
   ]
  },
  {
   "cell_type": "code",
   "execution_count": 5,
   "id": "ec57a20e-49d3-4527-8e35-3b4c57fe0b16",
   "metadata": {},
   "outputs": [
    {
     "name": "stdout",
     "output_type": "stream",
     "text": [
      "0\n",
      "1\n",
      "4\n",
      "9\n",
      "16\n",
      "25\n",
      "36\n"
     ]
    }
   ],
   "source": [
    "for i in sq(7):\n",
    "    print(i)"
   ]
  },
  {
   "cell_type": "code",
   "execution_count": 7,
   "id": "6067bd69-d071-48df-9d78-5bb3f327691f",
   "metadata": {},
   "outputs": [
    {
     "name": "stdout",
     "output_type": "stream",
     "text": [
      "2\n",
      "3\n",
      "5\n",
      "7\n",
      "11\n",
      "13\n",
      "17\n",
      "19\n",
      "23\n",
      "29\n",
      "31\n",
      "37\n",
      "41\n",
      "43\n",
      "47\n",
      "53\n",
      "59\n",
      "61\n",
      "67\n",
      "71\n"
     ]
    }
   ],
   "source": [
    "''' Question 5. Create a generator function for prime numbers less than 1000. Use the next() method to print the \n",
    "first 20 prime numbers.'''\n",
    "\n",
    "def prime_num(n):\n",
    "    n = 2\n",
    "    while n < 1000:\n",
    "        is_prime = True\n",
    "        for i in range(2,int(n**0.5)+1):\n",
    "            if n % i == 0:\n",
    "                is_prime = False\n",
    "                break\n",
    "        if is_prime:\n",
    "            yield n\n",
    "        n += 1\n",
    "        \n",
    "\n",
    "primes = prime_num(20)\n",
    "\n",
    "for i in range(20):\n",
    "    print(next(primes))"
   ]
  },
  {
   "cell_type": "code",
   "execution_count": 13,
   "id": "28e625a1-67a3-4507-94ed-cda5512e9cea",
   "metadata": {},
   "outputs": [
    {
     "name": "stdout",
     "output_type": "stream",
     "text": [
      "0\n",
      "1\n",
      "1\n",
      "2\n",
      "3\n",
      "5\n",
      "8\n",
      "13\n",
      "21\n",
      "34\n"
     ]
    }
   ],
   "source": [
    "''' Question 6. Write a python program to print the first 10 Fibonacci numbers using a while loop. '''\n",
    "\n",
    "# solution\n",
    "\n",
    "counter = 1\n",
    "a , b = 0 , 1\n",
    "while counter <= 10:\n",
    "    print(a)\n",
    "    c = a+b\n",
    "    a = b\n",
    "    b = c\n",
    "    counter = counter + 1\n"
   ]
  },
  {
   "cell_type": "code",
   "execution_count": 16,
   "id": "536cce2b-864f-4ad8-b1e3-5e640632aba2",
   "metadata": {},
   "outputs": [
    {
     "data": {
      "text/plain": [
       "['p', 'w', 's', 'k', 'i', 'l', 'l', 's']"
      ]
     },
     "execution_count": 16,
     "metadata": {},
     "output_type": "execute_result"
    }
   ],
   "source": [
    "''' Question 7. Write a List Comprehension to iterate through the given string: ‘pwskills’.\n",
    " Expected output: ['p', 'w', 's', 'k', 'i', 'l', 'l', 's']'''\n",
    "\n",
    "# solution;\n",
    "\n",
    "l = 'pwskills'\n",
    "[i for i in l]"
   ]
  },
  {
   "cell_type": "code",
   "execution_count": 17,
   "id": "393bcb79-0c47-48f0-b7d9-bf6ed6f1dbb6",
   "metadata": {},
   "outputs": [
    {
     "name": "stdin",
     "output_type": "stream",
     "text": [
      "enter your number: 34543\n"
     ]
    },
    {
     "name": "stdout",
     "output_type": "stream",
     "text": [
      "34543 is a palindrome\n"
     ]
    }
   ],
   "source": [
    "''' Question 8. Write a python program to check whether a given number is Palindrome or not using a while loop.'''\n",
    "\n",
    "# solution:\n",
    "\n",
    "num = int(input('enter your number:'))\n",
    "reverse = 0\n",
    "temp = num\n",
    "while temp > 0:\n",
    "    rem = temp%10\n",
    "    reverse = reverse*10 + rem\n",
    "    temp = temp // 10\n",
    "    \n",
    "if num == reverse:\n",
    "    print(num,'is a palindrome')\n",
    "else:\n",
    "    print(num,'is not a palindrome')\n"
   ]
  },
  {
   "cell_type": "code",
   "execution_count": 19,
   "id": "8dd278f9-827b-443e-8b77-00142ab3027f",
   "metadata": {},
   "outputs": [
    {
     "data": {
      "text/plain": [
       "[1,\n",
       " 2,\n",
       " 3,\n",
       " 4,\n",
       " 5,\n",
       " 6,\n",
       " 7,\n",
       " 8,\n",
       " 9,\n",
       " 10,\n",
       " 11,\n",
       " 12,\n",
       " 13,\n",
       " 14,\n",
       " 15,\n",
       " 16,\n",
       " 17,\n",
       " 18,\n",
       " 19,\n",
       " 20,\n",
       " 21,\n",
       " 22,\n",
       " 23,\n",
       " 24,\n",
       " 25,\n",
       " 26,\n",
       " 27,\n",
       " 28,\n",
       " 29,\n",
       " 30,\n",
       " 31,\n",
       " 32,\n",
       " 33,\n",
       " 34,\n",
       " 35,\n",
       " 36,\n",
       " 37,\n",
       " 38,\n",
       " 39,\n",
       " 40,\n",
       " 41,\n",
       " 42,\n",
       " 43,\n",
       " 44,\n",
       " 45,\n",
       " 46,\n",
       " 47,\n",
       " 48,\n",
       " 49,\n",
       " 50,\n",
       " 51,\n",
       " 52,\n",
       " 53,\n",
       " 54,\n",
       " 55,\n",
       " 56,\n",
       " 57,\n",
       " 58,\n",
       " 59,\n",
       " 60,\n",
       " 61,\n",
       " 62,\n",
       " 63,\n",
       " 64,\n",
       " 65,\n",
       " 66,\n",
       " 67,\n",
       " 68,\n",
       " 69,\n",
       " 70,\n",
       " 71,\n",
       " 72,\n",
       " 73,\n",
       " 74,\n",
       " 75,\n",
       " 76,\n",
       " 77,\n",
       " 78,\n",
       " 79,\n",
       " 80,\n",
       " 81,\n",
       " 82,\n",
       " 83,\n",
       " 84,\n",
       " 85,\n",
       " 86,\n",
       " 87,\n",
       " 88,\n",
       " 89,\n",
       " 90,\n",
       " 91,\n",
       " 92,\n",
       " 93,\n",
       " 94,\n",
       " 95,\n",
       " 96,\n",
       " 97,\n",
       " 98,\n",
       " 99,\n",
       " 100]"
      ]
     },
     "execution_count": 19,
     "metadata": {},
     "output_type": "execute_result"
    }
   ],
   "source": [
    "''' Question 9. Write a code to print odd numbers from 1 to 100 using list comprehension.'''\n",
    "\n",
    "# solution:\n",
    "[i for i in range(1,101)]\n",
    " "
   ]
  },
  {
   "cell_type": "code",
   "execution_count": 22,
   "id": "b2c0553c-edb0-432d-8606-dd05ebb5f974",
   "metadata": {},
   "outputs": [
    {
     "data": {
      "text/plain": [
       "[1,\n",
       " 3,\n",
       " 5,\n",
       " 7,\n",
       " 9,\n",
       " 11,\n",
       " 13,\n",
       " 15,\n",
       " 17,\n",
       " 19,\n",
       " 21,\n",
       " 23,\n",
       " 25,\n",
       " 27,\n",
       " 29,\n",
       " 31,\n",
       " 33,\n",
       " 35,\n",
       " 37,\n",
       " 39,\n",
       " 41,\n",
       " 43,\n",
       " 45,\n",
       " 47,\n",
       " 49,\n",
       " 51,\n",
       " 53,\n",
       " 55,\n",
       " 57,\n",
       " 59,\n",
       " 61,\n",
       " 63,\n",
       " 65,\n",
       " 67,\n",
       " 69,\n",
       " 71,\n",
       " 73,\n",
       " 75,\n",
       " 77,\n",
       " 79,\n",
       " 81,\n",
       " 83,\n",
       " 85,\n",
       " 87,\n",
       " 89,\n",
       " 91,\n",
       " 93,\n",
       " 95,\n",
       " 97,\n",
       " 99]"
      ]
     },
     "execution_count": 22,
     "metadata": {},
     "output_type": "execute_result"
    }
   ],
   "source": [
    "[i for i in range(1,101) if i%2 != 0]"
   ]
  },
  {
   "cell_type": "code",
   "execution_count": null,
   "id": "5a9bc47a-824a-45c9-bd98-2b8f0007f95f",
   "metadata": {},
   "outputs": [],
   "source": []
  }
 ],
 "metadata": {
  "kernelspec": {
   "display_name": "Python 3 (ipykernel)",
   "language": "python",
   "name": "python3"
  },
  "language_info": {
   "codemirror_mode": {
    "name": "ipython",
    "version": 3
   },
   "file_extension": ".py",
   "mimetype": "text/x-python",
   "name": "python",
   "nbconvert_exporter": "python",
   "pygments_lexer": "ipython3",
   "version": "3.10.8"
  }
 },
 "nbformat": 4,
 "nbformat_minor": 5
}
